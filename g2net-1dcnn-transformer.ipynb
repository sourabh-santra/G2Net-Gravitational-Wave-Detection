{
 "cells": [
  {
   "cell_type": "code",
   "execution_count": 1,
   "id": "1bea9e08",
   "metadata": {
    "execution": {
     "iopub.execute_input": "2021-10-10T06:51:19.911852Z",
     "iopub.status.busy": "2021-10-10T06:51:19.911278Z",
     "iopub.status.idle": "2021-10-10T06:51:21.984806Z",
     "shell.execute_reply": "2021-10-10T06:51:21.984156Z"
    },
    "papermill": {
     "duration": 2.101951,
     "end_time": "2021-10-10T06:51:21.984966",
     "exception": false,
     "start_time": "2021-10-10T06:51:19.883015",
     "status": "completed"
    },
    "tags": []
   },
   "outputs": [],
   "source": [
    "import numpy as np\n",
    "import pandas as pd\n",
    "from scipy import signal\n",
    "import os\n",
    "import matplotlib.pyplot as plt\n",
    "from glob import glob\n",
    "import torch\n",
    "from sklearn.metrics import roc_auc_score\n",
    "import time\n",
    "import math"
   ]
  },
  {
   "cell_type": "code",
   "execution_count": 2,
   "id": "5bd8b68f",
   "metadata": {
    "execution": {
     "iopub.execute_input": "2021-10-10T06:51:22.024819Z",
     "iopub.status.busy": "2021-10-10T06:51:22.024267Z",
     "iopub.status.idle": "2021-10-10T06:51:22.489586Z",
     "shell.execute_reply": "2021-10-10T06:51:22.488759Z"
    },
    "papermill": {
     "duration": 0.48573,
     "end_time": "2021-10-10T06:51:22.489715",
     "exception": false,
     "start_time": "2021-10-10T06:51:22.003985",
     "status": "completed"
    },
    "tags": []
   },
   "outputs": [
    {
     "data": {
      "text/html": [
       "<div>\n",
       "<style scoped>\n",
       "    .dataframe tbody tr th:only-of-type {\n",
       "        vertical-align: middle;\n",
       "    }\n",
       "\n",
       "    .dataframe tbody tr th {\n",
       "        vertical-align: top;\n",
       "    }\n",
       "\n",
       "    .dataframe thead th {\n",
       "        text-align: right;\n",
       "    }\n",
       "</style>\n",
       "<table border=\"1\" class=\"dataframe\">\n",
       "  <thead>\n",
       "    <tr style=\"text-align: right;\">\n",
       "      <th></th>\n",
       "      <th>id</th>\n",
       "      <th>target</th>\n",
       "    </tr>\n",
       "  </thead>\n",
       "  <tbody>\n",
       "    <tr>\n",
       "      <th>0</th>\n",
       "      <td>00000e74ad</td>\n",
       "      <td>1</td>\n",
       "    </tr>\n",
       "    <tr>\n",
       "      <th>1</th>\n",
       "      <td>00001f4945</td>\n",
       "      <td>0</td>\n",
       "    </tr>\n",
       "    <tr>\n",
       "      <th>2</th>\n",
       "      <td>0000661522</td>\n",
       "      <td>0</td>\n",
       "    </tr>\n",
       "    <tr>\n",
       "      <th>3</th>\n",
       "      <td>00007a006a</td>\n",
       "      <td>0</td>\n",
       "    </tr>\n",
       "    <tr>\n",
       "      <th>4</th>\n",
       "      <td>0000a38978</td>\n",
       "      <td>1</td>\n",
       "    </tr>\n",
       "    <tr>\n",
       "      <th>...</th>\n",
       "      <td>...</td>\n",
       "      <td>...</td>\n",
       "    </tr>\n",
       "    <tr>\n",
       "      <th>559995</th>\n",
       "      <td>ffff9a5645</td>\n",
       "      <td>1</td>\n",
       "    </tr>\n",
       "    <tr>\n",
       "      <th>559996</th>\n",
       "      <td>ffffab0c27</td>\n",
       "      <td>0</td>\n",
       "    </tr>\n",
       "    <tr>\n",
       "      <th>559997</th>\n",
       "      <td>ffffcf161a</td>\n",
       "      <td>1</td>\n",
       "    </tr>\n",
       "    <tr>\n",
       "      <th>559998</th>\n",
       "      <td>ffffd2c403</td>\n",
       "      <td>0</td>\n",
       "    </tr>\n",
       "    <tr>\n",
       "      <th>559999</th>\n",
       "      <td>fffff2180b</td>\n",
       "      <td>0</td>\n",
       "    </tr>\n",
       "  </tbody>\n",
       "</table>\n",
       "<p>560000 rows × 2 columns</p>\n",
       "</div>"
      ],
      "text/plain": [
       "                id  target\n",
       "0       00000e74ad       1\n",
       "1       00001f4945       0\n",
       "2       0000661522       0\n",
       "3       00007a006a       0\n",
       "4       0000a38978       1\n",
       "...            ...     ...\n",
       "559995  ffff9a5645       1\n",
       "559996  ffffab0c27       0\n",
       "559997  ffffcf161a       1\n",
       "559998  ffffd2c403       0\n",
       "559999  fffff2180b       0\n",
       "\n",
       "[560000 rows x 2 columns]"
      ]
     },
     "execution_count": 2,
     "metadata": {},
     "output_type": "execute_result"
    }
   ],
   "source": [
    "train_df = pd.read_csv(\"../input/g2net-gravitational-wave-detection/training_labels.csv\")\n",
    "train_df"
   ]
  },
  {
   "cell_type": "code",
   "execution_count": 3,
   "id": "005b9c4a",
   "metadata": {
    "execution": {
     "iopub.execute_input": "2021-10-10T06:51:22.552880Z",
     "iopub.status.busy": "2021-10-10T06:51:22.542610Z",
     "iopub.status.idle": "2021-10-10T06:51:23.016601Z",
     "shell.execute_reply": "2021-10-10T06:51:23.016998Z"
    },
    "papermill": {
     "duration": 0.50937,
     "end_time": "2021-10-10T06:51:23.017147",
     "exception": false,
     "start_time": "2021-10-10T06:51:22.507777",
     "status": "completed"
    },
    "tags": []
   },
   "outputs": [
    {
     "data": {
      "text/html": [
       "<div>\n",
       "<style scoped>\n",
       "    .dataframe tbody tr th:only-of-type {\n",
       "        vertical-align: middle;\n",
       "    }\n",
       "\n",
       "    .dataframe tbody tr th {\n",
       "        vertical-align: top;\n",
       "    }\n",
       "\n",
       "    .dataframe thead th {\n",
       "        text-align: right;\n",
       "    }\n",
       "</style>\n",
       "<table border=\"1\" class=\"dataframe\">\n",
       "  <thead>\n",
       "    <tr style=\"text-align: right;\">\n",
       "      <th></th>\n",
       "      <th>id</th>\n",
       "      <th>target</th>\n",
       "      <th>path</th>\n",
       "    </tr>\n",
       "  </thead>\n",
       "  <tbody>\n",
       "    <tr>\n",
       "      <th>0</th>\n",
       "      <td>00000e74ad</td>\n",
       "      <td>1</td>\n",
       "      <td>../input/g2net-gravitational-wave-detection/tr...</td>\n",
       "    </tr>\n",
       "    <tr>\n",
       "      <th>1</th>\n",
       "      <td>00001f4945</td>\n",
       "      <td>0</td>\n",
       "      <td>../input/g2net-gravitational-wave-detection/tr...</td>\n",
       "    </tr>\n",
       "    <tr>\n",
       "      <th>2</th>\n",
       "      <td>0000661522</td>\n",
       "      <td>0</td>\n",
       "      <td>../input/g2net-gravitational-wave-detection/tr...</td>\n",
       "    </tr>\n",
       "    <tr>\n",
       "      <th>3</th>\n",
       "      <td>00007a006a</td>\n",
       "      <td>0</td>\n",
       "      <td>../input/g2net-gravitational-wave-detection/tr...</td>\n",
       "    </tr>\n",
       "    <tr>\n",
       "      <th>4</th>\n",
       "      <td>0000a38978</td>\n",
       "      <td>1</td>\n",
       "      <td>../input/g2net-gravitational-wave-detection/tr...</td>\n",
       "    </tr>\n",
       "    <tr>\n",
       "      <th>...</th>\n",
       "      <td>...</td>\n",
       "      <td>...</td>\n",
       "      <td>...</td>\n",
       "    </tr>\n",
       "    <tr>\n",
       "      <th>559995</th>\n",
       "      <td>ffff9a5645</td>\n",
       "      <td>1</td>\n",
       "      <td>../input/g2net-gravitational-wave-detection/tr...</td>\n",
       "    </tr>\n",
       "    <tr>\n",
       "      <th>559996</th>\n",
       "      <td>ffffab0c27</td>\n",
       "      <td>0</td>\n",
       "      <td>../input/g2net-gravitational-wave-detection/tr...</td>\n",
       "    </tr>\n",
       "    <tr>\n",
       "      <th>559997</th>\n",
       "      <td>ffffcf161a</td>\n",
       "      <td>1</td>\n",
       "      <td>../input/g2net-gravitational-wave-detection/tr...</td>\n",
       "    </tr>\n",
       "    <tr>\n",
       "      <th>559998</th>\n",
       "      <td>ffffd2c403</td>\n",
       "      <td>0</td>\n",
       "      <td>../input/g2net-gravitational-wave-detection/tr...</td>\n",
       "    </tr>\n",
       "    <tr>\n",
       "      <th>559999</th>\n",
       "      <td>fffff2180b</td>\n",
       "      <td>0</td>\n",
       "      <td>../input/g2net-gravitational-wave-detection/tr...</td>\n",
       "    </tr>\n",
       "  </tbody>\n",
       "</table>\n",
       "<p>560000 rows × 3 columns</p>\n",
       "</div>"
      ],
      "text/plain": [
       "                id  target                                               path\n",
       "0       00000e74ad       1  ../input/g2net-gravitational-wave-detection/tr...\n",
       "1       00001f4945       0  ../input/g2net-gravitational-wave-detection/tr...\n",
       "2       0000661522       0  ../input/g2net-gravitational-wave-detection/tr...\n",
       "3       00007a006a       0  ../input/g2net-gravitational-wave-detection/tr...\n",
       "4       0000a38978       1  ../input/g2net-gravitational-wave-detection/tr...\n",
       "...            ...     ...                                                ...\n",
       "559995  ffff9a5645       1  ../input/g2net-gravitational-wave-detection/tr...\n",
       "559996  ffffab0c27       0  ../input/g2net-gravitational-wave-detection/tr...\n",
       "559997  ffffcf161a       1  ../input/g2net-gravitational-wave-detection/tr...\n",
       "559998  ffffd2c403       0  ../input/g2net-gravitational-wave-detection/tr...\n",
       "559999  fffff2180b       0  ../input/g2net-gravitational-wave-detection/tr...\n",
       "\n",
       "[560000 rows x 3 columns]"
      ]
     },
     "execution_count": 3,
     "metadata": {},
     "output_type": "execute_result"
    }
   ],
   "source": [
    "paths = [\"../input/g2net-gravitational-wave-detection/train/\" + \"/\".join(id[:3]) + \"/\" + id + \".npy\" for id in train_df.id.values]\n",
    "train_df['path'] = paths\n",
    "train_df"
   ]
  },
  {
   "cell_type": "code",
   "execution_count": 4,
   "id": "3f6a8339",
   "metadata": {
    "execution": {
     "iopub.execute_input": "2021-10-10T06:51:23.058862Z",
     "iopub.status.busy": "2021-10-10T06:51:23.058179Z",
     "iopub.status.idle": "2021-10-10T06:51:23.061295Z",
     "shell.execute_reply": "2021-10-10T06:51:23.061695Z"
    },
    "papermill": {
     "duration": 0.026797,
     "end_time": "2021-10-10T06:51:23.061829",
     "exception": false,
     "start_time": "2021-10-10T06:51:23.035032",
     "status": "completed"
    },
    "tags": []
   },
   "outputs": [],
   "source": [
    "def whiten(x):\n",
    "    for i in range(3):\n",
    "        spec = np.fft.rfft(x[i])\n",
    "        mag = np.sqrt(np.real(spec*np.conj(spec)))\n",
    "        norm = np.sqrt(np.array([4096/2]))\n",
    "        x[i] = np.fft.irfft(spec/mag) * norm\n",
    "    return x"
   ]
  },
  {
   "cell_type": "code",
   "execution_count": 5,
   "id": "29c3f6b7",
   "metadata": {
    "execution": {
     "iopub.execute_input": "2021-10-10T06:51:23.103104Z",
     "iopub.status.busy": "2021-10-10T06:51:23.102584Z",
     "iopub.status.idle": "2021-10-10T06:51:23.106516Z",
     "shell.execute_reply": "2021-10-10T06:51:23.106099Z"
    },
    "papermill": {
     "duration": 0.026523,
     "end_time": "2021-10-10T06:51:23.106625",
     "exception": false,
     "start_time": "2021-10-10T06:51:23.080102",
     "status": "completed"
    },
    "tags": []
   },
   "outputs": [],
   "source": [
    "def apply_bandpass(x, lf=30, hf=500, order=8, sr=2048):\n",
    "    sos = signal.butter(order, [lf, hf], btype=\"bandpass\", output=\"sos\", fs=sr)\n",
    "    normalization = np.sqrt((hf - lf) / (sr / 2))\n",
    "    for i in range(3):\n",
    "        x[i] = signal.sosfiltfilt(sos, x[i]) / normalization\n",
    "    return x"
   ]
  },
  {
   "cell_type": "code",
   "execution_count": 6,
   "id": "1211d4d1",
   "metadata": {
    "execution": {
     "iopub.execute_input": "2021-10-10T06:51:23.146139Z",
     "iopub.status.busy": "2021-10-10T06:51:23.145653Z",
     "iopub.status.idle": "2021-10-10T06:51:23.148885Z",
     "shell.execute_reply": "2021-10-10T06:51:23.149285Z"
    },
    "papermill": {
     "duration": 0.025009,
     "end_time": "2021-10-10T06:51:23.149399",
     "exception": false,
     "start_time": "2021-10-10T06:51:23.124390",
     "status": "completed"
    },
    "tags": []
   },
   "outputs": [],
   "source": [
    "def preprocess(x):\n",
    "    x = x / np.max(np.abs(x), axis=-1, keepdims=True)\n",
    "    #scale = np.array([[1.5e-20], [1.5e-20], [0.5e-20]])\n",
    "    #x = x / scale\n",
    "    x *= signal.tukey(4096, 0.1)\n",
    "    #x = whiten(x)\n",
    "    x = apply_bandpass(x)\n",
    "    return x"
   ]
  },
  {
   "cell_type": "code",
   "execution_count": 7,
   "id": "bfae4d27",
   "metadata": {
    "execution": {
     "iopub.execute_input": "2021-10-10T06:51:23.191065Z",
     "iopub.status.busy": "2021-10-10T06:51:23.190574Z",
     "iopub.status.idle": "2021-10-10T06:51:23.194372Z",
     "shell.execute_reply": "2021-10-10T06:51:23.193886Z"
    },
    "papermill": {
     "duration": 0.026669,
     "end_time": "2021-10-10T06:51:23.194500",
     "exception": false,
     "start_time": "2021-10-10T06:51:23.167831",
     "status": "completed"
    },
    "tags": []
   },
   "outputs": [],
   "source": [
    "class DataSet:\n",
    "    def __init__(self, paths, target, index):\n",
    "        self.paths = [paths[i] for i in index]\n",
    "        self.target = [target[i] for i in index]\n",
    "        \n",
    "    def __len__(self):\n",
    "        return len(self.paths)\n",
    "\n",
    "    def __getitem__(self, index):\n",
    "        x = np.load(self.paths[index])\n",
    "        x = preprocess(x)\n",
    "        return x.astype(np.float32), self.target[index].astype(np.float32)"
   ]
  },
  {
   "cell_type": "code",
   "execution_count": 8,
   "id": "99e8daa1",
   "metadata": {
    "execution": {
     "iopub.execute_input": "2021-10-10T06:51:23.236466Z",
     "iopub.status.busy": "2021-10-10T06:51:23.235960Z",
     "iopub.status.idle": "2021-10-10T06:51:23.239147Z",
     "shell.execute_reply": "2021-10-10T06:51:23.239520Z"
    },
    "papermill": {
     "duration": 0.027267,
     "end_time": "2021-10-10T06:51:23.239657",
     "exception": false,
     "start_time": "2021-10-10T06:51:23.212390",
     "status": "completed"
    },
    "tags": []
   },
   "outputs": [],
   "source": [
    "class SelfAttention(torch.nn.Module):\n",
    "    def __init__(self, dim, out_dim):\n",
    "        super(SelfAttention,self).__init__()\n",
    "        self.dim = out_dim\n",
    "        self.qkv_weight = torch.nn.Linear(dim, out_dim*3, bias=False)\n",
    "    \n",
    "    def forward(self, x):\n",
    "        q, k, v = self.qkv_weight(x).chunk(3, dim=-1)\n",
    "        att_logit = torch.bmm(q, k.transpose(1,2)) * (self.dim ** -0.5) # q * k\n",
    "        att_weight = torch.softmax(att_logit, dim=-1)\n",
    "        weighted_v = torch.bmm(att_weight, v) # q*k@k*dim == q * dim\n",
    "        return weighted_v"
   ]
  },
  {
   "cell_type": "code",
   "execution_count": 9,
   "id": "e281f00b",
   "metadata": {
    "execution": {
     "iopub.execute_input": "2021-10-10T06:51:23.282874Z",
     "iopub.status.busy": "2021-10-10T06:51:23.281693Z",
     "iopub.status.idle": "2021-10-10T06:51:23.283948Z",
     "shell.execute_reply": "2021-10-10T06:51:23.284339Z"
    },
    "papermill": {
     "duration": 0.026659,
     "end_time": "2021-10-10T06:51:23.284464",
     "exception": false,
     "start_time": "2021-10-10T06:51:23.257805",
     "status": "completed"
    },
    "tags": []
   },
   "outputs": [],
   "source": [
    "class MultiheadSelfAttention(torch.nn.Module):\n",
    "    def __init__(self, in_dim, out_dim, heads):\n",
    "        super(MultiheadSelfAttention,self).__init__()\n",
    "        head_out = out_dim // heads\n",
    "        self.heads = torch.nn.ModuleList([SelfAttention(in_dim, head_out) for _ in range(heads)])\n",
    "        self.output = torch.nn.Linear(out_dim, out_dim)\n",
    "    def forward(self, x):\n",
    "        outs = []\n",
    "        for head in self.heads:\n",
    "            out = head(x)\n",
    "            outs.append(out)\n",
    "        outs = torch.cat(outs, dim=-1)\n",
    "        outs = self.output(outs)\n",
    "        return outs"
   ]
  },
  {
   "cell_type": "code",
   "execution_count": 10,
   "id": "7196492b",
   "metadata": {
    "execution": {
     "iopub.execute_input": "2021-10-10T06:51:23.325330Z",
     "iopub.status.busy": "2021-10-10T06:51:23.324849Z",
     "iopub.status.idle": "2021-10-10T06:51:23.328037Z",
     "shell.execute_reply": "2021-10-10T06:51:23.328443Z"
    },
    "papermill": {
     "duration": 0.026029,
     "end_time": "2021-10-10T06:51:23.328554",
     "exception": false,
     "start_time": "2021-10-10T06:51:23.302525",
     "status": "completed"
    },
    "tags": []
   },
   "outputs": [],
   "source": [
    "class Residual(torch.nn.Module):\n",
    "    def __init__(self, fn, dim):\n",
    "        super(Residual,self).__init__()\n",
    "        self.fn = fn\n",
    "        self.dropout = torch.nn.Dropout(p=0.2)\n",
    "    def forward(self, x):\n",
    "        hop = self.dropout(self.fn(x))\n",
    "        y = x + hop\n",
    "        return y"
   ]
  },
  {
   "cell_type": "code",
   "execution_count": 11,
   "id": "d55abd3f",
   "metadata": {
    "execution": {
     "iopub.execute_input": "2021-10-10T06:51:23.370174Z",
     "iopub.status.busy": "2021-10-10T06:51:23.369684Z",
     "iopub.status.idle": "2021-10-10T06:51:23.373301Z",
     "shell.execute_reply": "2021-10-10T06:51:23.372894Z"
    },
    "papermill": {
     "duration": 0.026521,
     "end_time": "2021-10-10T06:51:23.373451",
     "exception": false,
     "start_time": "2021-10-10T06:51:23.346930",
     "status": "completed"
    },
    "tags": []
   },
   "outputs": [],
   "source": [
    "class Feedforward(torch.nn.Module):\n",
    "    def __init__(self, embed_dim, hidden_dim):\n",
    "        super(Feedforward,self).__init__()\n",
    "        self.hidden = torch.nn.Sequential(torch.nn.Linear(embed_dim, hidden_dim),\n",
    "                                        torch.nn.GELU(),\n",
    "                                         torch.nn.Linear(hidden_dim, embed_dim))\n",
    "    def forward(self, x):\n",
    "        return self.hidden(x)"
   ]
  },
  {
   "cell_type": "code",
   "execution_count": 12,
   "id": "2a60bae0",
   "metadata": {
    "execution": {
     "iopub.execute_input": "2021-10-10T06:51:23.417696Z",
     "iopub.status.busy": "2021-10-10T06:51:23.416476Z",
     "iopub.status.idle": "2021-10-10T06:51:23.418683Z",
     "shell.execute_reply": "2021-10-10T06:51:23.419084Z"
    },
    "papermill": {
     "duration": 0.027393,
     "end_time": "2021-10-10T06:51:23.419190",
     "exception": false,
     "start_time": "2021-10-10T06:51:23.391797",
     "status": "completed"
    },
    "tags": []
   },
   "outputs": [],
   "source": [
    "class Encoder(torch.nn.Module):\n",
    "    def __init__(self, in_dim, embed_dim, hidden_dim, heads, depth):\n",
    "        super(Encoder,self).__init__()\n",
    "        self.feedforwards = torch.nn.ModuleList([Residual(Feedforward(embed_dim, hidden_dim), embed_dim) for _ in range(depth)])\n",
    "        self.attentions = torch.nn.ModuleList([Residual(MultiheadSelfAttention(in_dim, embed_dim, heads), in_dim) if i == 0 \n",
    "                                               else Residual(MultiheadSelfAttention(embed_dim, embed_dim, heads), embed_dim)\n",
    "                                               for i in range(depth)])\n",
    "    \n",
    "    def forward(self, x):\n",
    "        for ffn, attn in zip(self.feedforwards, self.attentions):\n",
    "            x = attn(x)\n",
    "            x = ffn(x)\n",
    "        return x"
   ]
  },
  {
   "cell_type": "code",
   "execution_count": 13,
   "id": "955fdb36",
   "metadata": {
    "execution": {
     "iopub.execute_input": "2021-10-10T06:51:23.466134Z",
     "iopub.status.busy": "2021-10-10T06:51:23.465273Z",
     "iopub.status.idle": "2021-10-10T06:51:23.469955Z",
     "shell.execute_reply": "2021-10-10T06:51:23.471158Z"
    },
    "papermill": {
     "duration": 0.032743,
     "end_time": "2021-10-10T06:51:23.471464",
     "exception": false,
     "start_time": "2021-10-10T06:51:23.438721",
     "status": "completed"
    },
    "tags": []
   },
   "outputs": [],
   "source": [
    "class Recognizer(torch.nn.Module):\n",
    "    def __init__(self, embed_dim):\n",
    "        super(Recognizer,self).__init__()\n",
    "        self.logit = torch.nn.Linear(embed_dim, 1)\n",
    "        self.out = torch.nn.Sigmoid()\n",
    "    def forward(self, x):\n",
    "        x = self.logit(x).transpose(1, 2)\n",
    "        x = x.reshape(x.shape[0], 3, -1)\n",
    "        x = torch.max(x, dim=-1)[0].mean(dim=-1)\n",
    "        out = self.out(x)\n",
    "        return out, x"
   ]
  },
  {
   "cell_type": "code",
   "execution_count": 14,
   "id": "beed318f",
   "metadata": {
    "execution": {
     "iopub.execute_input": "2021-10-10T06:51:23.551988Z",
     "iopub.status.busy": "2021-10-10T06:51:23.549224Z",
     "iopub.status.idle": "2021-10-10T06:51:23.555592Z",
     "shell.execute_reply": "2021-10-10T06:51:23.554874Z"
    },
    "papermill": {
     "duration": 0.052845,
     "end_time": "2021-10-10T06:51:23.555757",
     "exception": false,
     "start_time": "2021-10-10T06:51:23.502912",
     "status": "completed"
    },
    "tags": []
   },
   "outputs": [],
   "source": [
    "class CNN1d(torch.nn.Module):\n",
    "    def __init__(self, embed_dim):\n",
    "        super(CNN1d, self).__init__()\n",
    "        self.CE = torch.nn.Sequential(torch.nn.BatchNorm1d(1),\n",
    "                                    torch.nn.Conv1d(1, embed_dim//4, 16, stride=1, padding=0),\n",
    "                                    torch.nn.GELU(),\n",
    "                                    torch.nn.MaxPool1d(4, stride=4, padding=0),\n",
    "                                    torch.nn.BatchNorm1d(embed_dim//4),\n",
    "                                    torch.nn.Conv1d(embed_dim//4, embed_dim//2, 8, stride=1, padding=0),\n",
    "                                    torch.nn.GELU(),\n",
    "                                    torch.nn.MaxPool1d(4, stride=4, padding=0),\n",
    "                                    torch.nn.BatchNorm1d(embed_dim//2),\n",
    "                                    torch.nn.Conv1d(embed_dim//2, embed_dim, 8, stride=1, padding=0),\n",
    "                                    torch.nn.GELU(),\n",
    "                                    torch.nn.MaxPool1d(4, stride=4, padding=0))\n",
    "        self.length = 61\n",
    "    def forward(self, x):\n",
    "        return self.CE(x)"
   ]
  },
  {
   "cell_type": "code",
   "execution_count": 15,
   "id": "054ed586",
   "metadata": {
    "execution": {
     "iopub.execute_input": "2021-10-10T06:51:23.644620Z",
     "iopub.status.busy": "2021-10-10T06:51:23.643821Z",
     "iopub.status.idle": "2021-10-10T06:51:23.654238Z",
     "shell.execute_reply": "2021-10-10T06:51:23.655011Z"
    },
    "papermill": {
     "duration": 0.060691,
     "end_time": "2021-10-10T06:51:23.655183",
     "exception": false,
     "start_time": "2021-10-10T06:51:23.594492",
     "status": "completed"
    },
    "tags": []
   },
   "outputs": [],
   "source": [
    "class Embed(torch.nn.Module):\n",
    "    def __init__(self, enc_dim, pe_dim, embed_dim, pe='fix'):\n",
    "        super(Embed, self).__init__()\n",
    "        dim = enc_dim\n",
    "        self.CNN = CNN1d(dim)\n",
    "        max_len = self.CNN.length\n",
    "        if pe == 'fix':\n",
    "            position = torch.arange(max_len).unsqueeze(1)\n",
    "            div_term = torch.exp(torch.arange(0, pe_dim, 2) * (-math.log(10000.0) / pe_dim))\n",
    "            pe = torch.zeros(max_len, pe_dim)\n",
    "            pe[:, 0::2] = torch.sin(position * div_term)\n",
    "            pe[:, 1::2] = torch.cos(position * div_term)\n",
    "            pe = pe.repeat((3,1))\n",
    "            detector = torch.zeros(max_len*3, 3)\n",
    "            detector[:max_len, 0] = 1\n",
    "            detector[max_len:max_len*2, 1] = 1\n",
    "            detector[max_len*2:max_len*3, 2] = 1\n",
    "            self.pe = torch.cat([pe, detector], dim=-1)\n",
    "            out_dim = dim + pe_dim + 3\n",
    "        elif pe == 'trainable':\n",
    "            self.tpe = torch.nn.Parameter(torch.randn(max_len, pe_dim))\n",
    "            detector = torch.zeros(max_len*3, 3)\n",
    "            detector[:max_len, 0] = 1\n",
    "            detector[max_len:max_len*2, 1] = 1\n",
    "            detector[max_len*2:max_len*3, 2] = 1\n",
    "            self.pe = torch.cat([self.tpe.repeat((3,1)), detector], dim=-1)\n",
    "            out_dim = dim + pe_dim + 3\n",
    "        else:\n",
    "            self.pe = None\n",
    "            out_dim = dim\n",
    "        \n",
    "        self.embed = torch.nn.Linear(out_dim, embed_dim, bias=False)\n",
    "\n",
    "    def forward(self, x):\n",
    "        ss = []\n",
    "        for i in range(x.shape[1]):\n",
    "            s = x[:,i,:].unsqueeze(1)\n",
    "            fts = self.CNN(s).transpose(1, 2)\n",
    "            std, mean = torch.std_mean(fts, dim=(1,2), unbiased=False, keepdim=True)\n",
    "            fts = torch.div(fts-mean, std)\n",
    "            ss.append(fts)\n",
    "        x = torch.cat(ss, dim=1)\n",
    "        if self.pe is not None:\n",
    "            x = torch.cat([x, self.pe.to(x.device).repeat((x.shape[0],1,1))], dim=-1)\n",
    "        x = self.embed(x)\n",
    "        return x"
   ]
  },
  {
   "cell_type": "code",
   "execution_count": 16,
   "id": "88062b10",
   "metadata": {
    "execution": {
     "iopub.execute_input": "2021-10-10T06:51:23.724121Z",
     "iopub.status.busy": "2021-10-10T06:51:23.723361Z",
     "iopub.status.idle": "2021-10-10T06:51:23.726141Z",
     "shell.execute_reply": "2021-10-10T06:51:23.727062Z"
    },
    "papermill": {
     "duration": 0.041849,
     "end_time": "2021-10-10T06:51:23.727240",
     "exception": false,
     "start_time": "2021-10-10T06:51:23.685391",
     "status": "completed"
    },
    "tags": []
   },
   "outputs": [],
   "source": [
    "class Model(torch.nn.Module):\n",
    "    def __init__(self, enc_dim, pe_dim, embed_dim, hidden_dim, heads, depth, pe='fix'):\n",
    "        super(Model,self).__init__()\n",
    "        self.embed = Embed(enc_dim, pe_dim, embed_dim, pe=pe)\n",
    "        self.encoder = Encoder(embed_dim, embed_dim, hidden_dim, heads, depth)\n",
    "        self.recognizer = Recognizer(embed_dim)\n",
    "    \n",
    "    def forward(self, x):\n",
    "        x = self.embed(x)\n",
    "        x = self.encoder(x)\n",
    "        out, x = self.recognizer(x)\n",
    "        return out, x"
   ]
  },
  {
   "cell_type": "code",
   "execution_count": 17,
   "id": "c96b80c8",
   "metadata": {
    "execution": {
     "iopub.execute_input": "2021-10-10T06:51:23.797522Z",
     "iopub.status.busy": "2021-10-10T06:51:23.796693Z",
     "iopub.status.idle": "2021-10-10T06:51:23.798861Z",
     "shell.execute_reply": "2021-10-10T06:51:23.798207Z"
    },
    "papermill": {
     "duration": 0.040395,
     "end_time": "2021-10-10T06:51:23.799002",
     "exception": false,
     "start_time": "2021-10-10T06:51:23.758607",
     "status": "completed"
    },
    "tags": []
   },
   "outputs": [],
   "source": [
    "seed = 2434\n",
    "pe_dim = 128\n",
    "enc_dim = 128\n",
    "embed_dim = 256\n",
    "hidden_dim = 256*4\n",
    "heads = 4\n",
    "depth = 4\n",
    "pe = 'fix'\n",
    "lr = 1e-4\n",
    "weight_decay = 1e-5\n",
    "train_batch_size = 256\n",
    "test_batch_size = 512\n",
    "optimizer = 'Adam'\n",
    "grad_clip = 1000"
   ]
  },
  {
   "cell_type": "code",
   "execution_count": 18,
   "id": "088819f6",
   "metadata": {
    "execution": {
     "iopub.execute_input": "2021-10-10T06:51:23.872071Z",
     "iopub.status.busy": "2021-10-10T06:51:23.871327Z",
     "iopub.status.idle": "2021-10-10T06:51:24.396435Z",
     "shell.execute_reply": "2021-10-10T06:51:24.395920Z"
    },
    "papermill": {
     "duration": 0.566728,
     "end_time": "2021-10-10T06:51:24.396592",
     "exception": false,
     "start_time": "2021-10-10T06:51:23.829864",
     "status": "completed"
    },
    "tags": []
   },
   "outputs": [],
   "source": [
    "np.random.seed(seed)\n",
    "torch.manual_seed(seed)\n",
    "train_index = np.random.rand(train_df.shape[0]) < 0.9\n",
    "val_index = ~train_index\n",
    "train_index = np.nonzero(train_index)[0]\n",
    "val_index = np.nonzero(val_index)[0]\n",
    "train_dataset = DataSet(train_df.path.values, train_df.target.values, train_index)\n",
    "val_dataset = DataSet(train_df.path.values, train_df.target.values, val_index)"
   ]
  },
  {
   "cell_type": "code",
   "execution_count": 19,
   "id": "7fa77877",
   "metadata": {
    "execution": {
     "iopub.execute_input": "2021-10-10T06:51:24.472109Z",
     "iopub.status.busy": "2021-10-10T06:51:24.471396Z",
     "iopub.status.idle": "2021-10-10T14:07:46.413580Z",
     "shell.execute_reply": "2021-10-10T14:07:46.414124Z"
    },
    "papermill": {
     "duration": 26181.998976,
     "end_time": "2021-10-10T14:07:46.415169",
     "exception": false,
     "start_time": "2021-10-10T06:51:24.416193",
     "status": "completed"
    },
    "tags": []
   },
   "outputs": [
    {
     "name": "stdout",
     "output_type": "stream",
     "text": [
      "epoch: 0 train loss: 0.47678901230156756 train auc: 0.8284693092169959 val loss: 0.5229373363191807 val auc: 0.836573975939286 time: 83.46436281998952 min\n",
      "epoch: 1 train loss: 0.4457662624868419 train auc: 0.8496010127769736 val loss: 0.46763185749713926 val auc: 0.8483072303650009 time: 153.7411775827408 min\n",
      "epoch: 2 train loss: 0.4360087947260613 train auc: 0.8554806587632069 val loss: 0.47349863372104234 val auc: 0.8385723382985322 time: 224.36621654431025 min\n",
      "epoch: 3 train loss: 0.43010964636998833 train auc: 0.8588805229864567 val loss: 0.46900227988925136 val auc: 0.8459726520314239 time: 294.2271575331688 min\n",
      "epoch: 4 train loss: 0.4244472940238131 train auc: 0.8623613603509005 val loss: 0.4626397798238831 val auc: 0.8504313746112059 time: 364.85483620564145 min\n",
      "epoch: 5 train loss: 0.42012522771856153 train auc: 0.864750609327987 val loss: 0.46318844615136395 val auc: 0.8526569991131233 time: 436.29227875471116 min\n",
      "time over\n"
     ]
    }
   ],
   "source": [
    "epochs = 10\n",
    "device = 'cuda'\n",
    "num_worker = os.cpu_count()\n",
    "model = Model(enc_dim, pe_dim, embed_dim, hidden_dim, heads, depth, pe).to(device)\n",
    "best_model = Model(enc_dim, pe_dim, embed_dim, hidden_dim, heads, depth, pe).to(device)\n",
    "best_model.load_state_dict(model.state_dict())\n",
    "criterion = torch.nn.BCEWithLogitsLoss(reduction='sum')\n",
    "optim = torch.optim.Adam(model.parameters(), lr=lr, weight_decay=weight_decay)\n",
    "train_dataloader = torch.utils.data.DataLoader(train_dataset, batch_size=train_batch_size,\n",
    "                                         shuffle=True, drop_last=True, num_workers=num_worker, pin_memory=True)\n",
    "val_dataloader = torch.utils.data.DataLoader(val_dataset, batch_size=test_batch_size,\n",
    "                                         shuffle=False, drop_last=False, num_workers=num_worker, pin_memory=True)\n",
    "start_time = time.time()\n",
    "train_loss_list = []\n",
    "train_auc_list = []\n",
    "val_loss_list = []\n",
    "val_auc_list = []\n",
    "best_auc = 0\n",
    "for epoch in range(epochs):\n",
    "    model.train()\n",
    "    train_loss = 0\n",
    "    train_auc = 0\n",
    "    count = 0\n",
    "    batch_count = 0\n",
    "    preds = []\n",
    "    targets = []\n",
    "    for data, target in train_dataloader:\n",
    "        optim.zero_grad()\n",
    "        data = data.to(device)\n",
    "        target = target.to(device)\n",
    "        pred, x = model(data)\n",
    "        loss = criterion(x, target)\n",
    "        loss.backward()\n",
    "        torch.nn.utils.clip_grad_norm_(model.parameters(), grad_clip)\n",
    "        optim.step()\n",
    "        train_loss += loss.item()\n",
    "        preds.append(pred.detach().cpu().numpy())\n",
    "        targets.append(target.cpu().numpy())\n",
    "        count += data.shape[0]\n",
    "        batch_count += 1\n",
    "    train_loss = train_loss / count\n",
    "    preds = np.concatenate(preds, axis=0)\n",
    "    targets = np.concatenate(targets, axis=0)\n",
    "    train_auc = roc_auc_score(targets, preds)\n",
    "    train_loss_list.append(train_loss)\n",
    "    train_auc_list.append(train_auc)\n",
    "    \n",
    "    model.eval()\n",
    "    with torch.no_grad():\n",
    "        val_loss = 0\n",
    "        val_auc = 0\n",
    "        count = 0\n",
    "        batch_count = 0\n",
    "        preds = []\n",
    "        targets = []\n",
    "        for data, target in val_dataloader:\n",
    "            data = data.to(device)\n",
    "            target = target.to(device)\n",
    "            pred, x = model(data)\n",
    "            loss = criterion(x, target)\n",
    "            val_loss += loss.item()\n",
    "            preds.append(pred.detach().cpu().numpy())\n",
    "            targets.append(target.cpu().numpy())\n",
    "            count += data.shape[0]\n",
    "            batch_count += 1\n",
    "        val_loss = val_loss / count\n",
    "        preds = np.concatenate(preds, axis=0)\n",
    "        targets = np.concatenate(targets, axis=0)\n",
    "        val_auc = roc_auc_score(targets, preds)\n",
    "        val_loss_list.append(val_loss)\n",
    "        val_auc_list.append(val_auc)\n",
    "    spent_time = time.time() - start_time\n",
    "    print(f'epoch: {epoch} train loss: {train_loss} train auc: {train_auc} val loss: {val_loss} val auc: {val_auc} time: {spent_time/60} min')\n",
    "    if val_auc >= best_auc:\n",
    "        best_auc = val_auc\n",
    "        best_model.load_state_dict(model.state_dict())\n",
    "    if spent_time >= 25000:\n",
    "        print('time over')\n",
    "        break"
   ]
  },
  {
   "cell_type": "code",
   "execution_count": 20,
   "id": "dee068a7",
   "metadata": {
    "execution": {
     "iopub.execute_input": "2021-10-10T14:07:46.488982Z",
     "iopub.status.busy": "2021-10-10T14:07:46.488449Z",
     "iopub.status.idle": "2021-10-10T14:07:46.688440Z",
     "shell.execute_reply": "2021-10-10T14:07:46.688871Z"
    },
    "papermill": {
     "duration": 0.251622,
     "end_time": "2021-10-10T14:07:46.689008",
     "exception": false,
     "start_time": "2021-10-10T14:07:46.437386",
     "status": "completed"
    },
    "tags": []
   },
   "outputs": [
    {
     "data": {
      "text/plain": [
       "[<matplotlib.lines.Line2D at 0x7f9d23d8dbd0>]"
      ]
     },
     "execution_count": 20,
     "metadata": {},
     "output_type": "execute_result"
    },
    {
     "data": {
      "image/png": "[encoded data removed]",
      "text/plain": [
       "<Figure size 432x288 with 1 Axes>"
      ]
     },
     "metadata": {
      "needs_background": "light"
     },
     "output_type": "display_data"
    }
   ],
   "source": [
    "plt.plot(train_loss_list)\n",
    "plt.plot(val_loss_list)"
   ]
  },
  {
   "cell_type": "code",
   "execution_count": 21,
   "id": "ae37a0b8",
   "metadata": {
    "execution": {
     "iopub.execute_input": "2021-10-10T14:07:46.764535Z",
     "iopub.status.busy": "2021-10-10T14:07:46.749633Z",
     "iopub.status.idle": "2021-10-10T14:07:46.892702Z",
     "shell.execute_reply": "2021-10-10T14:07:46.893130Z"
    },
    "papermill": {
     "duration": 0.181408,
     "end_time": "2021-10-10T14:07:46.893258",
     "exception": false,
     "start_time": "2021-10-10T14:07:46.711850",
     "status": "completed"
    },
    "tags": []
   },
   "outputs": [
    {
     "data": {
      "text/plain": [
       "[<matplotlib.lines.Line2D at 0x7f9d2028f850>]"
      ]
     },
     "execution_count": 21,
     "metadata": {},
     "output_type": "execute_result"
    },
    {
     "data": {
      "image/png": "[encoded data removed]",
      "text/plain": [
       "<Figure size 432x288 with 1 Axes>"
      ]
     },
     "metadata": {
      "needs_background": "light"
     },
     "output_type": "display_data"
    }
   ],
   "source": [
    "plt.plot(train_auc_list)\n",
    "plt.plot(val_auc_list)"
   ]
  },
  {
   "cell_type": "code",
   "execution_count": 22,
   "id": "5fef8968",
   "metadata": {
    "execution": {
     "iopub.execute_input": "2021-10-10T14:07:46.947563Z",
     "iopub.status.busy": "2021-10-10T14:07:46.946860Z",
     "iopub.status.idle": "2021-10-10T14:07:47.004790Z",
     "shell.execute_reply": "2021-10-10T14:07:47.004269Z"
    },
    "papermill": {
     "duration": 0.087021,
     "end_time": "2021-10-10T14:07:47.004914",
     "exception": false,
     "start_time": "2021-10-10T14:07:46.917893",
     "status": "completed"
    },
    "tags": []
   },
   "outputs": [],
   "source": [
    "torch.save(model.state_dict(), \"model\")"
   ]
  },
  {
   "cell_type": "code",
   "execution_count": 23,
   "id": "cc320442",
   "metadata": {
    "execution": {
     "iopub.execute_input": "2021-10-10T14:07:47.058777Z",
     "iopub.status.busy": "2021-10-10T14:07:47.058064Z",
     "iopub.status.idle": "2021-10-10T14:09:07.621857Z",
     "shell.execute_reply": "2021-10-10T14:09:07.622254Z"
    },
    "papermill": {
     "duration": 80.593489,
     "end_time": "2021-10-10T14:09:07.622394",
     "exception": false,
     "start_time": "2021-10-10T14:07:47.028905",
     "status": "completed"
    },
    "tags": []
   },
   "outputs": [
    {
     "data": {
      "text/html": [
       "<div>\n",
       "<style scoped>\n",
       "    .dataframe tbody tr th:only-of-type {\n",
       "        vertical-align: middle;\n",
       "    }\n",
       "\n",
       "    .dataframe tbody tr th {\n",
       "        vertical-align: top;\n",
       "    }\n",
       "\n",
       "    .dataframe thead th {\n",
       "        text-align: right;\n",
       "    }\n",
       "</style>\n",
       "<table border=\"1\" class=\"dataframe\">\n",
       "  <thead>\n",
       "    <tr style=\"text-align: right;\">\n",
       "      <th></th>\n",
       "      <th>path</th>\n",
       "      <th>target</th>\n",
       "    </tr>\n",
       "    <tr>\n",
       "      <th>id</th>\n",
       "      <th></th>\n",
       "      <th></th>\n",
       "    </tr>\n",
       "  </thead>\n",
       "  <tbody>\n",
       "    <tr>\n",
       "      <th>00005bced6</th>\n",
       "      <td>../input/g2net-gravitational-wave-detection/te...</td>\n",
       "      <td>0.0</td>\n",
       "    </tr>\n",
       "    <tr>\n",
       "      <th>0000806717</th>\n",
       "      <td>../input/g2net-gravitational-wave-detection/te...</td>\n",
       "      <td>0.0</td>\n",
       "    </tr>\n",
       "    <tr>\n",
       "      <th>0000ef4fe1</th>\n",
       "      <td>../input/g2net-gravitational-wave-detection/te...</td>\n",
       "      <td>0.0</td>\n",
       "    </tr>\n",
       "    <tr>\n",
       "      <th>00020de251</th>\n",
       "      <td>../input/g2net-gravitational-wave-detection/te...</td>\n",
       "      <td>0.0</td>\n",
       "    </tr>\n",
       "    <tr>\n",
       "      <th>00024887b5</th>\n",
       "      <td>../input/g2net-gravitational-wave-detection/te...</td>\n",
       "      <td>0.0</td>\n",
       "    </tr>\n",
       "    <tr>\n",
       "      <th>...</th>\n",
       "      <td>...</td>\n",
       "      <td>...</td>\n",
       "    </tr>\n",
       "    <tr>\n",
       "      <th>ffff4125f1</th>\n",
       "      <td>../input/g2net-gravitational-wave-detection/te...</td>\n",
       "      <td>0.0</td>\n",
       "    </tr>\n",
       "    <tr>\n",
       "      <th>ffff9d32a6</th>\n",
       "      <td>../input/g2net-gravitational-wave-detection/te...</td>\n",
       "      <td>0.0</td>\n",
       "    </tr>\n",
       "    <tr>\n",
       "      <th>ffff9f4c1f</th>\n",
       "      <td>../input/g2net-gravitational-wave-detection/te...</td>\n",
       "      <td>0.0</td>\n",
       "    </tr>\n",
       "    <tr>\n",
       "      <th>ffffa19693</th>\n",
       "      <td>../input/g2net-gravitational-wave-detection/te...</td>\n",
       "      <td>0.0</td>\n",
       "    </tr>\n",
       "    <tr>\n",
       "      <th>ffffebbfe2</th>\n",
       "      <td>../input/g2net-gravitational-wave-detection/te...</td>\n",
       "      <td>0.0</td>\n",
       "    </tr>\n",
       "  </tbody>\n",
       "</table>\n",
       "<p>226000 rows × 2 columns</p>\n",
       "</div>"
      ],
      "text/plain": [
       "                                                         path  target\n",
       "id                                                                   \n",
       "00005bced6  ../input/g2net-gravitational-wave-detection/te...     0.0\n",
       "0000806717  ../input/g2net-gravitational-wave-detection/te...     0.0\n",
       "0000ef4fe1  ../input/g2net-gravitational-wave-detection/te...     0.0\n",
       "00020de251  ../input/g2net-gravitational-wave-detection/te...     0.0\n",
       "00024887b5  ../input/g2net-gravitational-wave-detection/te...     0.0\n",
       "...                                                       ...     ...\n",
       "ffff4125f1  ../input/g2net-gravitational-wave-detection/te...     0.0\n",
       "ffff9d32a6  ../input/g2net-gravitational-wave-detection/te...     0.0\n",
       "ffff9f4c1f  ../input/g2net-gravitational-wave-detection/te...     0.0\n",
       "ffffa19693  ../input/g2net-gravitational-wave-detection/te...     0.0\n",
       "ffffebbfe2  ../input/g2net-gravitational-wave-detection/te...     0.0\n",
       "\n",
       "[226000 rows x 2 columns]"
      ]
     },
     "execution_count": 23,
     "metadata": {},
     "output_type": "execute_result"
    }
   ],
   "source": [
    "paths = glob(\"../input/g2net-gravitational-wave-detection/test/*/*/*/*\")\n",
    "ids = [path.split(\"/\")[-1].split(\".\")[0] for path in paths]\n",
    "test_df = pd.DataFrame({\"path\":paths,\"id\":ids})\n",
    "test_df['target'] = 0.0\n",
    "test_df = test_df.set_index('id')\n",
    "test_df = test_df.sort_index()\n",
    "test_df"
   ]
  },
  {
   "cell_type": "code",
   "execution_count": 24,
   "id": "09ac78c3",
   "metadata": {
    "execution": {
     "iopub.execute_input": "2021-10-10T14:09:07.678059Z",
     "iopub.status.busy": "2021-10-10T14:09:07.677345Z",
     "iopub.status.idle": "2021-10-10T14:09:07.680350Z",
     "shell.execute_reply": "2021-10-10T14:09:07.679912Z"
    },
    "papermill": {
     "duration": 0.032464,
     "end_time": "2021-10-10T14:09:07.680476",
     "exception": false,
     "start_time": "2021-10-10T14:09:07.648012",
     "status": "completed"
    },
    "tags": []
   },
   "outputs": [],
   "source": [
    "class TestDataSet:\n",
    "    def __init__(self, paths, ids):\n",
    "        self.paths = paths\n",
    "        self.ids = ids\n",
    "\n",
    "    def __len__(self):\n",
    "        return len(self.paths)\n",
    "\n",
    "    def __getitem__(self, index):\n",
    "        x = np.load(self.paths[index])\n",
    "        x = preprocess(x).astype(np.float32)\n",
    "        return x, self.ids[index]"
   ]
  },
  {
   "cell_type": "code",
   "execution_count": 25,
   "id": "cf92f25d",
   "metadata": {
    "execution": {
     "iopub.execute_input": "2021-10-10T14:09:07.732872Z",
     "iopub.status.busy": "2021-10-10T14:09:07.732156Z",
     "iopub.status.idle": "2021-10-10T14:09:07.734895Z",
     "shell.execute_reply": "2021-10-10T14:09:07.735307Z"
    },
    "papermill": {
     "duration": 0.030717,
     "end_time": "2021-10-10T14:09:07.735452",
     "exception": false,
     "start_time": "2021-10-10T14:09:07.704735",
     "status": "completed"
    },
    "tags": []
   },
   "outputs": [],
   "source": [
    "test_dataset = TestDataSet(test_df.path.values, test_df.index.values)"
   ]
  },
  {
   "cell_type": "code",
   "execution_count": 26,
   "id": "7d9c3445",
   "metadata": {
    "execution": {
     "iopub.execute_input": "2021-10-10T14:09:07.787375Z",
     "iopub.status.busy": "2021-10-10T14:09:07.786648Z",
     "iopub.status.idle": "2021-10-10T14:09:07.788886Z",
     "shell.execute_reply": "2021-10-10T14:09:07.789328Z"
    },
    "papermill": {
     "duration": 0.030118,
     "end_time": "2021-10-10T14:09:07.789457",
     "exception": false,
     "start_time": "2021-10-10T14:09:07.759339",
     "status": "completed"
    },
    "tags": []
   },
   "outputs": [],
   "source": [
    "test_dataloader = torch.utils.data.DataLoader(test_dataset, batch_size=512,\n",
    "                                         shuffle=False, drop_last=False, num_workers=num_worker, pin_memory=True)"
   ]
  },
  {
   "cell_type": "code",
   "execution_count": 27,
   "id": "70f11b55",
   "metadata": {
    "execution": {
     "iopub.execute_input": "2021-10-10T14:09:07.845703Z",
     "iopub.status.busy": "2021-10-10T14:09:07.844786Z",
     "iopub.status.idle": "2021-10-10T14:38:32.548190Z",
     "shell.execute_reply": "2021-10-10T14:38:32.547478Z"
    },
    "papermill": {
     "duration": 1764.734307,
     "end_time": "2021-10-10T14:38:32.548427",
     "exception": false,
     "start_time": "2021-10-10T14:09:07.814120",
     "status": "completed"
    },
    "tags": []
   },
   "outputs": [],
   "source": [
    "best_model.eval()\n",
    "with torch.no_grad():\n",
    "    for data, ids in test_dataloader:\n",
    "        data = data.to(device)\n",
    "        pred, x = best_model(data)\n",
    "        test_df.loc[list(ids),'target'] = pred.cpu().numpy()"
   ]
  },
  {
   "cell_type": "code",
   "execution_count": 28,
   "id": "8f6f943d",
   "metadata": {
    "execution": {
     "iopub.execute_input": "2021-10-10T14:38:32.629067Z",
     "iopub.status.busy": "2021-10-10T14:38:32.628565Z",
     "iopub.status.idle": "2021-10-10T14:38:32.633071Z",
     "shell.execute_reply": "2021-10-10T14:38:32.633485Z"
    },
    "papermill": {
     "duration": 0.058158,
     "end_time": "2021-10-10T14:38:32.633617",
     "exception": false,
     "start_time": "2021-10-10T14:38:32.575459",
     "status": "completed"
    },
    "tags": []
   },
   "outputs": [
    {
     "data": {
      "text/html": [
       "<div>\n",
       "<style scoped>\n",
       "    .dataframe tbody tr th:only-of-type {\n",
       "        vertical-align: middle;\n",
       "    }\n",
       "\n",
       "    .dataframe tbody tr th {\n",
       "        vertical-align: top;\n",
       "    }\n",
       "\n",
       "    .dataframe thead th {\n",
       "        text-align: right;\n",
       "    }\n",
       "</style>\n",
       "<table border=\"1\" class=\"dataframe\">\n",
       "  <thead>\n",
       "    <tr style=\"text-align: right;\">\n",
       "      <th></th>\n",
       "      <th>path</th>\n",
       "      <th>target</th>\n",
       "    </tr>\n",
       "    <tr>\n",
       "      <th>id</th>\n",
       "      <th></th>\n",
       "      <th></th>\n",
       "    </tr>\n",
       "  </thead>\n",
       "  <tbody>\n",
       "    <tr>\n",
       "      <th>00005bced6</th>\n",
       "      <td>../input/g2net-gravitational-wave-detection/te...</td>\n",
       "      <td>1.000000</td>\n",
       "    </tr>\n",
       "    <tr>\n",
       "      <th>0000806717</th>\n",
       "      <td>../input/g2net-gravitational-wave-detection/te...</td>\n",
       "      <td>0.710024</td>\n",
       "    </tr>\n",
       "    <tr>\n",
       "      <th>0000ef4fe1</th>\n",
       "      <td>../input/g2net-gravitational-wave-detection/te...</td>\n",
       "      <td>0.456643</td>\n",
       "    </tr>\n",
       "    <tr>\n",
       "      <th>00020de251</th>\n",
       "      <td>../input/g2net-gravitational-wave-detection/te...</td>\n",
       "      <td>0.915793</td>\n",
       "    </tr>\n",
       "    <tr>\n",
       "      <th>00024887b5</th>\n",
       "      <td>../input/g2net-gravitational-wave-detection/te...</td>\n",
       "      <td>0.361522</td>\n",
       "    </tr>\n",
       "    <tr>\n",
       "      <th>...</th>\n",
       "      <td>...</td>\n",
       "      <td>...</td>\n",
       "    </tr>\n",
       "    <tr>\n",
       "      <th>ffff4125f1</th>\n",
       "      <td>../input/g2net-gravitational-wave-detection/te...</td>\n",
       "      <td>0.579821</td>\n",
       "    </tr>\n",
       "    <tr>\n",
       "      <th>ffff9d32a6</th>\n",
       "      <td>../input/g2net-gravitational-wave-detection/te...</td>\n",
       "      <td>0.512304</td>\n",
       "    </tr>\n",
       "    <tr>\n",
       "      <th>ffff9f4c1f</th>\n",
       "      <td>../input/g2net-gravitational-wave-detection/te...</td>\n",
       "      <td>0.319973</td>\n",
       "    </tr>\n",
       "    <tr>\n",
       "      <th>ffffa19693</th>\n",
       "      <td>../input/g2net-gravitational-wave-detection/te...</td>\n",
       "      <td>0.984915</td>\n",
       "    </tr>\n",
       "    <tr>\n",
       "      <th>ffffebbfe2</th>\n",
       "      <td>../input/g2net-gravitational-wave-detection/te...</td>\n",
       "      <td>0.208079</td>\n",
       "    </tr>\n",
       "  </tbody>\n",
       "</table>\n",
       "<p>226000 rows × 2 columns</p>\n",
       "</div>"
      ],
      "text/plain": [
       "                                                         path    target\n",
       "id                                                                     \n",
       "00005bced6  ../input/g2net-gravitational-wave-detection/te...  1.000000\n",
       "0000806717  ../input/g2net-gravitational-wave-detection/te...  0.710024\n",
       "0000ef4fe1  ../input/g2net-gravitational-wave-detection/te...  0.456643\n",
       "00020de251  ../input/g2net-gravitational-wave-detection/te...  0.915793\n",
       "00024887b5  ../input/g2net-gravitational-wave-detection/te...  0.361522\n",
       "...                                                       ...       ...\n",
       "ffff4125f1  ../input/g2net-gravitational-wave-detection/te...  0.579821\n",
       "ffff9d32a6  ../input/g2net-gravitational-wave-detection/te...  0.512304\n",
       "ffff9f4c1f  ../input/g2net-gravitational-wave-detection/te...  0.319973\n",
       "ffffa19693  ../input/g2net-gravitational-wave-detection/te...  0.984915\n",
       "ffffebbfe2  ../input/g2net-gravitational-wave-detection/te...  0.208079\n",
       "\n",
       "[226000 rows x 2 columns]"
      ]
     },
     "execution_count": 28,
     "metadata": {},
     "output_type": "execute_result"
    }
   ],
   "source": [
    "test_df"
   ]
  },
  {
   "cell_type": "code",
   "execution_count": 29,
   "id": "eb2f4d38",
   "metadata": {
    "execution": {
     "iopub.execute_input": "2021-10-10T14:38:32.686300Z",
     "iopub.status.busy": "2021-10-10T14:38:32.685814Z",
     "iopub.status.idle": "2021-10-10T14:38:33.260990Z",
     "shell.execute_reply": "2021-10-10T14:38:33.260149Z"
    },
    "papermill": {
     "duration": 0.602976,
     "end_time": "2021-10-10T14:38:33.261200",
     "exception": false,
     "start_time": "2021-10-10T14:38:32.658224",
     "status": "completed"
    },
    "tags": []
   },
   "outputs": [],
   "source": [
    "test_df.to_csv('submission.csv', columns=['target'])"
   ]
  }
 ],
 "metadata": {
  "kernelspec": {
   "display_name": "Python 3",
   "language": "python",
   "name": "python3"
  },
  "language_info": {
   "codemirror_mode": {
    "name": "ipython",
    "version": 3
   },
   "file_extension": ".py",
   "mimetype": "text/x-python",
   "name": "python",
   "nbconvert_exporter": "python",
   "pygments_lexer": "ipython3",
   "version": "3.7.10"
  },
  "papermill": {
   "default_parameters": {},
   "duration": 28042.68975,
   "end_time": "2021-10-10T14:38:36.262284",
   "environment_variables": {},
   "exception": null,
   "input_path": "__notebook__.ipynb",
   "output_path": "__notebook__.ipynb",
   "parameters": {},
   "start_time": "2021-10-10T06:51:13.572534",
   "version": "2.3.3"
  }
 },
 "nbformat": 4,
 "nbformat_minor": 5
}
